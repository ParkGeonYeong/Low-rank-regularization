{
 "cells": [
  {
   "cell_type": "code",
   "execution_count": null,
   "metadata": {},
   "outputs": [],
   "source": [
    "import pandas as pd\n",
    "\n",
    "# Specify the CSV file path\n",
    "csv_file_path = 'expr/'\n",
    "\n",
    "# Read the CSV file into a DataFrame\n",
    "df = pd.read_csv(csv_file_path)\n",
    "\n",
    "# Sort the DataFrame based on the 'entropy' column in descending order\n",
    "df = df.sort_values(by='entropy', ascending=False)\n",
    "\n",
    "# Calculate the number of rows representing the top 10%\n",
    "top_10_percent = int(0.1 * len(df))\n",
    "\n",
    "# Extract the top 10% rows\n",
    "top_10_percent_rows = df.head(top_10_percent)"
   ]
  }
 ],
 "metadata": {
  "language_info": {
   "name": "python"
  },
  "orig_nbformat": 4
 },
 "nbformat": 4,
 "nbformat_minor": 2
}
